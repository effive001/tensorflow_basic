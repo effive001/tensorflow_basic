{
  "nbformat": 4,
  "nbformat_minor": 0,
  "metadata": {
    "colab": {
      "name": "FashionMnist_NB3",
      "provenance": []
    },
    "kernelspec": {
      "name": "python3",
      "display_name": "Python 3"
    },
    "language_info": {
      "name": "python"
    }
  },
  "cells": [
    {
      "cell_type": "code",
      "metadata": {
        "id": "mFAIW4ch6hk6"
      },
      "source": [
        "# importing dependencies\n",
        "import tensorflow as tf\n",
        "import numpy as np\n",
        "from tensorflow import keras"
      ],
      "execution_count": 24,
      "outputs": []
    },
    {
      "cell_type": "code",
      "metadata": {
        "id": "6LwgRnvb6xxB"
      },
      "source": [
        "# creating an object for the dataset\n",
        "fashion=tf.keras.datasets.fashion_mnist"
      ],
      "execution_count": 25,
      "outputs": []
    },
    {
      "cell_type": "code",
      "metadata": {
        "id": "mdeTeRYg6_yT"
      },
      "source": [
        "# loading the train and test images and labels\n",
        "(training_images,training_labels),(test_images,test_labels)=fashion.load_data()"
      ],
      "execution_count": 26,
      "outputs": []
    },
    {
      "cell_type": "code",
      "metadata": {
        "id": "bdz9N6lQ7WKN"
      },
      "source": [
        "# normalizing the data to reduce processing time\n",
        "training_images=training_images/255.0\n",
        "test_images=test_images/255.0"
      ],
      "execution_count": 27,
      "outputs": []
    },
    {
      "cell_type": "code",
      "metadata": {
        "id": "V63od2Sb7dpM"
      },
      "source": [
        "# creating the model \n",
        "# Flatten input layer creates a linear array of the 2-D greyscale images creating 28*28 which is 784 elements\n",
        "# The hidden layer is of 128 neurons \n",
        "# And the output layer is of 10 neurons which is equal to number of classes \n",
        "\n",
        "model=tf.keras.Sequential([tf.keras.layers.Flatten(),\n",
        "                           tf.keras.layers.Dense(128, activation=tf.nn.relu),\n",
        "                           tf.keras.layers.Dense(10,activation=tf.nn.softmax)])"
      ],
      "execution_count": 9,
      "outputs": []
    },
    {
      "cell_type": "code",
      "metadata": {
        "id": "DN7XaZcm8ktB"
      },
      "source": [
        "# compiling the model and defining loss function and optimizer\n",
        "model.compile(optimizer=tf.optimizers.Adam(),loss='sparse_categorical_crossentropy',metrics=['accuracy'])"
      ],
      "execution_count": 10,
      "outputs": []
    },
    {
      "cell_type": "code",
      "metadata": {
        "id": "kdWmKl0i-MTO"
      },
      "source": [
        "# training the model with train dataset\n",
        "model.fit(training_images, training_labels, epochs=5)"
      ],
      "execution_count": null,
      "outputs": []
    },
    {
      "cell_type": "code",
      "metadata": {
        "id": "GAGwQmjH-R3D"
      },
      "source": [
        "# evaluating the test dataset with evaluate function\n",
        "model.evaluate(test_images, test_labels)"
      ],
      "execution_count": null,
      "outputs": []
    },
    {
      "cell_type": "code",
      "metadata": {
        "id": "WwrgP2W1-qsw"
      },
      "source": [
        "# Exercise 01\n",
        "# printing predictions\n",
        "classify=model.predict(test_images)"
      ],
      "execution_count": 13,
      "outputs": []
    },
    {
      "cell_type": "code",
      "metadata": {
        "id": "SBaJXdgA_aZQ"
      },
      "source": [
        "print(classify[0])\n",
        "print(test_labels[0])"
      ],
      "execution_count": null,
      "outputs": []
    },
    {
      "cell_type": "code",
      "metadata": {
        "colab": {
          "base_uri": "https://localhost:8080/"
        },
        "id": "xOx63J17_dgu",
        "outputId": "5c129baf-1047-4df2-aa09-76d794fae858"
      },
      "source": [
        "# Excercise 02\n",
        "# Observing changes in loss and prediction by increasing no of neurons in hidden layer\n",
        "model=tf.keras.Sequential([tf.keras.layers.Flatten(),\n",
        "                           tf.keras.layers.Dense(2048, activation=tf.nn.relu),\n",
        "                           tf.keras.layers.Dense(10,activation=tf.nn.softmax)])\n",
        "\n",
        "model.compile(optimizer='adam',loss='sparse_categorical_crossentropy',metrics=['accuracy'])\n",
        "model.fit(training_images, training_labels, epochs=5)\n",
        "model.evaluate(test_images, test_labels)"
      ],
      "execution_count": 18,
      "outputs": [
        {
          "output_type": "stream",
          "text": [
            "Epoch 1/5\n",
            "1875/1875 [==============================] - 24s 13ms/step - loss: 0.4695 - accuracy: 0.8299\n",
            "Epoch 2/5\n",
            "1875/1875 [==============================] - 23s 12ms/step - loss: 0.3588 - accuracy: 0.8687\n",
            "Epoch 3/5\n",
            "1875/1875 [==============================] - 23s 12ms/step - loss: 0.3181 - accuracy: 0.8816\n",
            "Epoch 4/5\n",
            "1875/1875 [==============================] - 24s 13ms/step - loss: 0.2956 - accuracy: 0.8905\n",
            "Epoch 5/5\n",
            "1875/1875 [==============================] - 23s 12ms/step - loss: 0.2773 - accuracy: 0.8968\n",
            "313/313 [==============================] - 2s 5ms/step - loss: 0.3555 - accuracy: 0.8696\n"
          ],
          "name": "stdout"
        },
        {
          "output_type": "execute_result",
          "data": {
            "text/plain": [
              "[0.3554536998271942, 0.8695999979972839]"
            ]
          },
          "metadata": {
            "tags": []
          },
          "execution_count": 18
        }
      ]
    },
    {
      "cell_type": "code",
      "metadata": {
        "colab": {
          "base_uri": "https://localhost:8080/"
        },
        "id": "nzrscKuF_-0Q",
        "outputId": "4ab38b9d-ac37-49d3-e846-a95a061a0554"
      },
      "source": [
        "classify=model.predict(test_images)\n",
        "print(classify[0])"
      ],
      "execution_count": 21,
      "outputs": [
        {
          "output_type": "stream",
          "text": [
            "[6.6289624e-10 2.0557159e-10 8.2231930e-12 1.0407296e-10 3.3538117e-10\n",
            " 2.3924506e-05 1.5551063e-08 2.9997812e-03 4.9798865e-10 9.9697626e-01]\n"
          ],
          "name": "stdout"
        }
      ]
    },
    {
      "cell_type": "code",
      "metadata": {
        "id": "wjqoDKbjBMQf"
      },
      "source": [
        "# Exercise 03\n",
        "# What would happen if we do not use the flatten layer or if we use different number of output neurons\n",
        "# Both would give an error\n",
        "# Firstly the shape of input layer should be the same as the data to be fed in this case 28*28 which is infeasible to generate\n",
        "# Secondly the output layer should be equal in no to the number of classes which in this case is 0-9 that is 10 neurons"
      ],
      "execution_count": 22,
      "outputs": []
    },
    {
      "cell_type": "code",
      "metadata": {
        "colab": {
          "base_uri": "https://localhost:8080/"
        },
        "id": "FTVAMuZxCRwF",
        "outputId": "259bf7d0-b0eb-4fe4-a655-7a00fbd29ad9"
      },
      "source": [
        "# Exercise 04\n",
        "# Observing changes by adding another hidden layer in the model\n",
        "# There is not much difference observed in the loss because the data is far to simple to train \n",
        "# Perhaps a colourful image may have more impact with additional layers\n",
        "\n",
        "model=tf.keras.Sequential([tf.keras.layers.Flatten(),\n",
        "                           tf.keras.layers.Dense(2048, activation=tf.nn.relu),\n",
        "                           tf.keras.layers.Dense(2048, activation=tf.nn.relu),\n",
        "                           tf.keras.layers.Dense(10,activation=tf.nn.softmax)])\n",
        "\n",
        "model.compile(optimizer='adam',loss='sparse_categorical_crossentropy',metrics=['accuracy'])\n",
        "model.fit(training_images, training_labels, epochs=5)\n",
        "model.evaluate(test_images, test_labels) "
      ],
      "execution_count": 28,
      "outputs": [
        {
          "output_type": "stream",
          "text": [
            "Epoch 1/5\n",
            "1875/1875 [==============================] - 100s 53ms/step - loss: 0.4728 - accuracy: 0.8268\n",
            "Epoch 2/5\n",
            "1875/1875 [==============================] - 99s 53ms/step - loss: 0.3595 - accuracy: 0.8667\n",
            "Epoch 3/5\n",
            "1875/1875 [==============================] - 100s 54ms/step - loss: 0.3196 - accuracy: 0.8803\n",
            "Epoch 4/5\n",
            "1875/1875 [==============================] - 100s 53ms/step - loss: 0.2968 - accuracy: 0.8882\n",
            "Epoch 5/5\n",
            "1875/1875 [==============================] - 100s 53ms/step - loss: 0.2824 - accuracy: 0.8933\n",
            "313/313 [==============================] - 4s 12ms/step - loss: 0.3639 - accuracy: 0.8669\n"
          ],
          "name": "stdout"
        },
        {
          "output_type": "execute_result",
          "data": {
            "text/plain": [
              "[0.3638942241668701, 0.8669000267982483]"
            ]
          },
          "metadata": {
            "tags": []
          },
          "execution_count": 28
        }
      ]
    },
    {
      "cell_type": "code",
      "metadata": {
        "colab": {
          "base_uri": "https://localhost:8080/"
        },
        "id": "JNOEofAQDIw9",
        "outputId": "591560a6-7cb8-41d8-c453-2e8ec82ac244"
      },
      "source": [
        "# Exercise 05\n",
        "# Observing changes by changing no of epochs \n",
        "# If we increase the number of epoch the loss decreases \n",
        "# While if we increse epoch by too much the loss may increase due to overfitting\n",
        "# Excercise 02\n",
        "# Observing changes in loss and prediction by increasing no of neurons in hidden layer\n",
        "model=tf.keras.Sequential([tf.keras.layers.Flatten(),\n",
        "                           tf.keras.layers.Dense(2048, activation=tf.nn.relu),\n",
        "                           tf.keras.layers.Dense(10,activation=tf.nn.softmax)])\n",
        "\n",
        "model.compile(optimizer='adam',loss='sparse_categorical_crossentropy',metrics=['accuracy'])\n",
        "model.fit(training_images, training_labels, epochs=20)\n",
        "model.evaluate(test_images, test_labels)"
      ],
      "execution_count": 30,
      "outputs": [
        {
          "output_type": "stream",
          "text": [
            "Epoch 1/20\n",
            "1875/1875 [==============================] - 23s 12ms/step - loss: 0.4730 - accuracy: 0.8288\n",
            "Epoch 2/20\n",
            "1875/1875 [==============================] - 23s 12ms/step - loss: 0.3589 - accuracy: 0.8681\n",
            "Epoch 3/20\n",
            "1875/1875 [==============================] - 23s 12ms/step - loss: 0.3214 - accuracy: 0.8816\n",
            "Epoch 4/20\n",
            "1875/1875 [==============================] - 23s 12ms/step - loss: 0.2973 - accuracy: 0.8896\n",
            "Epoch 5/20\n",
            "1875/1875 [==============================] - 23s 12ms/step - loss: 0.2762 - accuracy: 0.8965\n",
            "Epoch 6/20\n",
            "1875/1875 [==============================] - 23s 12ms/step - loss: 0.2634 - accuracy: 0.9013\n",
            "Epoch 7/20\n",
            "1875/1875 [==============================] - 23s 12ms/step - loss: 0.2481 - accuracy: 0.9071\n",
            "Epoch 8/20\n",
            "1875/1875 [==============================] - 23s 12ms/step - loss: 0.2372 - accuracy: 0.9111\n",
            "Epoch 9/20\n",
            "1875/1875 [==============================] - 23s 12ms/step - loss: 0.2270 - accuracy: 0.9147\n",
            "Epoch 10/20\n",
            "1875/1875 [==============================] - 23s 12ms/step - loss: 0.2199 - accuracy: 0.9178\n",
            "Epoch 11/20\n",
            "1875/1875 [==============================] - 23s 12ms/step - loss: 0.2095 - accuracy: 0.9209\n",
            "Epoch 12/20\n",
            "1875/1875 [==============================] - 23s 12ms/step - loss: 0.2026 - accuracy: 0.9245\n",
            "Epoch 13/20\n",
            "1875/1875 [==============================] - 23s 12ms/step - loss: 0.1929 - accuracy: 0.9275\n",
            "Epoch 14/20\n",
            "1875/1875 [==============================] - 23s 12ms/step - loss: 0.1881 - accuracy: 0.9302\n",
            "Epoch 15/20\n",
            "1875/1875 [==============================] - 23s 12ms/step - loss: 0.1809 - accuracy: 0.9326\n",
            "Epoch 16/20\n",
            "1875/1875 [==============================] - 23s 12ms/step - loss: 0.1772 - accuracy: 0.9334\n",
            "Epoch 17/20\n",
            "1875/1875 [==============================] - 23s 12ms/step - loss: 0.1704 - accuracy: 0.9351\n",
            "Epoch 18/20\n",
            "1875/1875 [==============================] - 23s 12ms/step - loss: 0.1655 - accuracy: 0.9378\n",
            "Epoch 19/20\n",
            "1875/1875 [==============================] - 23s 12ms/step - loss: 0.1614 - accuracy: 0.9388\n",
            "Epoch 20/20\n",
            "1875/1875 [==============================] - 23s 12ms/step - loss: 0.1523 - accuracy: 0.9429\n",
            "313/313 [==============================] - 2s 5ms/step - loss: 0.3720 - accuracy: 0.8931\n"
          ],
          "name": "stdout"
        },
        {
          "output_type": "execute_result",
          "data": {
            "text/plain": [
              "[0.37198251485824585, 0.8931000232696533]"
            ]
          },
          "metadata": {
            "tags": []
          },
          "execution_count": 30
        }
      ]
    },
    {
      "cell_type": "code",
      "metadata": {
        "colab": {
          "base_uri": "https://localhost:8080/"
        },
        "id": "6qlPWCtXFRyo",
        "outputId": "1af54794-d500-4fb4-d19b-31a77bda564a"
      },
      "source": [
        "# What if we want to stop the training when we hit a favourable loss or accuracy\n",
        "# For this we use callbacks\n",
        "class mycallback(tf.keras.callbacks.Callback):\n",
        "    def on_epoch_end(self,epoch,logs={}):\n",
        "    # This function gets called when an epoch ends. The log objects has all the information related to training\n",
        "      if(logs.get('loss')<0.4):\n",
        "        # for 'accuracy' it may give TypeError so try using \"acc\" instead\n",
        "        print(\"\\nReached 40% loss so stopping training\")\n",
        "        self.model.stop_training=True\n",
        "\n",
        "# instatiating the class mycallback\n",
        "callbacks=mycallback()\n",
        "\n",
        "# Excercise 02\n",
        "# Observing changes in loss and prediction by increasing no of neurons in hidden layer\n",
        "model=tf.keras.Sequential([tf.keras.layers.Flatten(),\n",
        "                           tf.keras.layers.Dense(512, activation=tf.nn.relu),\n",
        "                           tf.keras.layers.Dense(10,activation=tf.nn.softmax)])\n",
        "\n",
        "model.compile(optimizer='adam',loss='sparse_categorical_crossentropy',metrics=['accuracy'])\n",
        "model.fit(training_images, training_labels, epochs=5, callbacks=[callbacks])\n",
        "# Using callback parameter to pass the instance of the class\n",
        "model.evaluate(test_images, test_labels)\n"
      ],
      "execution_count": 33,
      "outputs": [
        {
          "output_type": "stream",
          "text": [
            "Epoch 1/5\n",
            "1875/1875 [==============================] - 9s 5ms/step - loss: 0.4763 - accuracy: 0.8302\n",
            "Epoch 2/5\n",
            "1875/1875 [==============================] - 8s 4ms/step - loss: 0.3574 - accuracy: 0.8679\n",
            "\n",
            "Reached 60% accuracy so stopping training\n",
            "313/313 [==============================] - 1s 2ms/step - loss: 0.3666 - accuracy: 0.8676\n"
          ],
          "name": "stdout"
        },
        {
          "output_type": "execute_result",
          "data": {
            "text/plain": [
              "[0.3665861189365387, 0.8676000237464905]"
            ]
          },
          "metadata": {
            "tags": []
          },
          "execution_count": 33
        }
      ]
    }
  ]
}